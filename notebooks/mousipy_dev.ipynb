{
 "cells": [
  {
   "cell_type": "code",
   "execution_count": 3,
   "metadata": {},
   "outputs": [
    {
     "data": {
      "text/html": [
       "<style>.container { width:97% !important; }</style>"
      ],
      "text/plain": [
       "<IPython.core.display.HTML object>"
      ]
     },
     "metadata": {},
     "output_type": "display_data"
    }
   ],
   "source": [
    "import pandas as pd\n",
    "import matplotlib.pyplot as pl\n",
    "import scanpy as sc\n",
    "import numpy as np\n",
    "import scvelo as scv\n",
    "from tqdm.notebook import tqdm\n",
    "\n",
    "from IPython.core.display import display, HTML\n",
    "display(HTML(\"<style>.container { width:97% !important; }</style>\"))\n",
    "\n",
    "import sys\n",
    "sys.path.append('../src/mousipy/')"
   ]
  },
  {
   "cell_type": "code",
   "execution_count": 4,
   "metadata": {},
   "outputs": [
    {
     "name": "stdout",
     "output_type": "stream",
     "text": [
      "The autoreload extension is already loaded. To reload it, use:\n",
      "  %reload_ext autoreload\n"
     ]
    }
   ],
   "source": [
    "# Continuous development\n",
    "%load_ext autoreload\n",
    "%autoreload 2\n",
    "from mousipy import *"
   ]
  },
  {
   "cell_type": "code",
   "execution_count": 5,
   "metadata": {},
   "outputs": [],
   "source": [
    "# conversion tables\n",
    "h2m_tab = pd.read_csv('../src/mousipy/biomart/human_to_mouse_biomart_export.csv').set_index('Gene name')\n",
    "m2h_tab = pd.read_csv('../src/mousipy/biomart/mouse_to_human_biomart_export.csv').set_index('Gene name')"
   ]
  },
  {
   "cell_type": "code",
   "execution_count": 6,
   "metadata": {},
   "outputs": [],
   "source": [
    "mouse_data = scv.datasets.pancreas()\n",
    "human_data = sc.datasets.pbmc3k()"
   ]
  },
  {
   "cell_type": "code",
   "execution_count": 29,
   "metadata": {},
   "outputs": [
    {
     "data": {
      "text/html": [
       "<div>\n",
       "<style scoped>\n",
       "    .dataframe tbody tr th:only-of-type {\n",
       "        vertical-align: middle;\n",
       "    }\n",
       "\n",
       "    .dataframe tbody tr th {\n",
       "        vertical-align: top;\n",
       "    }\n",
       "\n",
       "    .dataframe thead th {\n",
       "        text-align: right;\n",
       "    }\n",
       "</style>\n",
       "<table border=\"1\" class=\"dataframe\">\n",
       "  <thead>\n",
       "    <tr style=\"text-align: right;\">\n",
       "      <th></th>\n",
       "      <th>Gene stable ID</th>\n",
       "      <th>Mouse gene stable ID</th>\n",
       "      <th>Mouse gene name</th>\n",
       "      <th>Mouse orthology confidence [0 low, 1 high]</th>\n",
       "    </tr>\n",
       "    <tr>\n",
       "      <th>Gene name</th>\n",
       "      <th></th>\n",
       "      <th></th>\n",
       "      <th></th>\n",
       "      <th></th>\n",
       "    </tr>\n",
       "  </thead>\n",
       "  <tbody>\n",
       "    <tr>\n",
       "      <th>MT-TF</th>\n",
       "      <td>ENSG00000210049</td>\n",
       "      <td>NaN</td>\n",
       "      <td>NaN</td>\n",
       "      <td>NaN</td>\n",
       "    </tr>\n",
       "    <tr>\n",
       "      <th>MT-RNR1</th>\n",
       "      <td>ENSG00000211459</td>\n",
       "      <td>NaN</td>\n",
       "      <td>NaN</td>\n",
       "      <td>NaN</td>\n",
       "    </tr>\n",
       "    <tr>\n",
       "      <th>MT-TV</th>\n",
       "      <td>ENSG00000210077</td>\n",
       "      <td>NaN</td>\n",
       "      <td>NaN</td>\n",
       "      <td>NaN</td>\n",
       "    </tr>\n",
       "    <tr>\n",
       "      <th>MT-RNR2</th>\n",
       "      <td>ENSG00000210082</td>\n",
       "      <td>NaN</td>\n",
       "      <td>NaN</td>\n",
       "      <td>NaN</td>\n",
       "    </tr>\n",
       "    <tr>\n",
       "      <th>MT-TL1</th>\n",
       "      <td>ENSG00000209082</td>\n",
       "      <td>NaN</td>\n",
       "      <td>NaN</td>\n",
       "      <td>NaN</td>\n",
       "    </tr>\n",
       "  </tbody>\n",
       "</table>\n",
       "</div>"
      ],
      "text/plain": [
       "            Gene stable ID Mouse gene stable ID Mouse gene name  \\\n",
       "Gene name                                                         \n",
       "MT-TF      ENSG00000210049                  NaN             NaN   \n",
       "MT-RNR1    ENSG00000211459                  NaN             NaN   \n",
       "MT-TV      ENSG00000210077                  NaN             NaN   \n",
       "MT-RNR2    ENSG00000210082                  NaN             NaN   \n",
       "MT-TL1     ENSG00000209082                  NaN             NaN   \n",
       "\n",
       "           Mouse orthology confidence [0 low, 1 high]  \n",
       "Gene name                                              \n",
       "MT-TF                                             NaN  \n",
       "MT-RNR1                                           NaN  \n",
       "MT-TV                                             NaN  \n",
       "MT-RNR2                                           NaN  \n",
       "MT-TL1                                            NaN  "
      ]
     },
     "execution_count": 29,
     "metadata": {},
     "output_type": "execute_result"
    }
   ],
   "source": [
    "h2m_tab.head()"
   ]
  },
  {
   "cell_type": "code",
   "execution_count": 28,
   "metadata": {},
   "outputs": [
    {
     "name": "stderr",
     "output_type": "stream",
     "text": [
      "                                      \r"
     ]
    },
    {
     "data": {
      "text/plain": [
       "{'Atp6v1e2': 'ENSG00000250565',\n",
       " 'Pigf': 'ENSG00000151665',\n",
       " 'Mcfd2': 'ENSG00000180398',\n",
       " 'Calm2': 'ENSG00000143933',\n",
       " 'Kcnk12': 'ENSG00000184261',\n",
       " 'Fbxo11': 'ENSG00000138081',\n",
       " 'Fshr': 'ENSG00000170820',\n",
       " 'Gm10184': 'ENSG00000182481',\n",
       " 'Nrxn1': 'ENSG00000179915',\n",
       " 'Mettl4': 'ENSG00000101574',\n",
       " 'Scaf8': 'ENSG00000213079',\n",
       " 'Tiam2': 'ENSG00000146426'}"
      ]
     },
     "execution_count": 28,
     "metadata": {},
     "output_type": "execute_result"
    }
   ],
   "source": [
    "check_orthologs(mouse_data.var.index[10000:10020], target='Ensembl')[0]"
   ]
  },
  {
   "cell_type": "code",
   "execution_count": 44,
   "metadata": {},
   "outputs": [
    {
     "data": {
      "text/plain": [
       "{'Atp6v1e2': 'ATP6V1E2',\n",
       " 'Pigf': 'PIGF',\n",
       " 'Mcfd2': 'MCFD2',\n",
       " 'Calm2': 'CALM2',\n",
       " 'Kcnk12': 'KCNK12',\n",
       " 'Fbxo11': 'FBXO11',\n",
       " 'Lhcgr': 'LHCGR',\n",
       " 'Fshr': 'FSHR',\n",
       " 'Gm10184': 'KPNA2',\n",
       " 'Nrxn1': 'NRXN1',\n",
       " 'Mettl4': 'METTL4',\n",
       " 'Scaf8': 'SCAF8',\n",
       " 'Tiam2': 'TIAM2'}"
      ]
     },
     "execution_count": 44,
     "metadata": {},
     "output_type": "execute_result"
    }
   ],
   "source": [
    "check_orthologs(mouse_data.var.index[10000:10020])[0]"
   ]
  },
  {
   "cell_type": "code",
   "execution_count": 43,
   "metadata": {},
   "outputs": [
    {
     "data": {
      "text/plain": [
       "{'BOD1': 'ENSMUSG00000044502',\n",
       " 'CPEB4': 'ENSMUSG00000020300',\n",
       " 'C5orf47': 'ENSMUSG00000020299',\n",
       " 'NSG2': 'ENSMUSG00000020297',\n",
       " 'MSX2': 'ENSMUSG00000021469'}"
      ]
     },
     "execution_count": 43,
     "metadata": {},
     "output_type": "execute_result"
    }
   ],
   "source": [
    "check_orthologs(human_data.var.index[10000:10020], target='Ensembl')[0]"
   ]
  },
  {
   "cell_type": "code",
   "execution_count": 47,
   "metadata": {},
   "outputs": [
    {
     "data": {
      "text/plain": [
       "{'BOD1': 'Bod1',\n",
       " 'CPEB4': 'Cpeb4',\n",
       " 'C5orf47': '4930524B15Rik',\n",
       " 'NSG2': 'Nsg2',\n",
       " 'MSX2': 'Msx2'}"
      ]
     },
     "execution_count": 47,
     "metadata": {},
     "output_type": "execute_result"
    }
   ],
   "source": [
    "check_orthologs(human_data.var.index[10000:10020])[0]"
   ]
  },
  {
   "cell_type": "code",
   "execution_count": 26,
   "metadata": {},
   "outputs": [
    {
     "name": "stderr",
     "output_type": "stream",
     "text": [
      "                                      \r"
     ]
    },
    {
     "data": {
      "text/plain": [
       "{'ENSG00000145919': 'ENSMUSG00000044502',\n",
       " 'ENSG00000113742': 'ENSMUSG00000020300',\n",
       " 'ENSG00000185056': 'ENSMUSG00000020299',\n",
       " 'ENSG00000170091': 'ENSMUSG00000020297',\n",
       " 'ENSG00000120149': 'ENSMUSG00000021469'}"
      ]
     },
     "execution_count": 26,
     "metadata": {},
     "output_type": "execute_result"
    }
   ],
   "source": [
    "check_orthologs(human_data.var.gene_ids[10000:10020])[0]"
   ]
  },
  {
   "cell_type": "code",
   "execution_count": 35,
   "metadata": {},
   "outputs": [
    {
     "name": "stderr",
     "output_type": "stream",
     "text": [
      "100%|██████████| 27998/27998 [00:35<00:00, 779.85it/s]\n",
      "100%|██████████| 781/781 [00:52<00:00, 14.90it/s]\n",
      "                                                   \r"
     ]
    }
   ],
   "source": [
    "translated_mouse_data = translate(mouse_data)"
   ]
  },
  {
   "cell_type": "code",
   "execution_count": 54,
   "metadata": {},
   "outputs": [
    {
     "name": "stderr",
     "output_type": "stream",
     "text": [
      "100%|██████████| 32738/32738 [00:52<00:00, 628.53it/s]\n"
     ]
    },
    {
     "name": "stdout",
     "output_type": "stream",
     "text": [
      "Found direct orthologs for 15560 genes.\n",
      "Found multiple orthologs for 816 genes.\n",
      "Found no orthologs for 3088 genes.\n",
      "Found no index in biomart for 13274 genes.\n"
     ]
    },
    {
     "name": "stderr",
     "output_type": "stream",
     "text": [
      "100%|██████████| 816/816 [01:01<00:00, 13.24it/s]\n",
      "                                                   \r"
     ]
    }
   ],
   "source": [
    "translated_human_data = translate(human_data)"
   ]
  },
  {
   "cell_type": "code",
   "execution_count": 55,
   "metadata": {},
   "outputs": [
    {
     "data": {
      "text/plain": [
       "AnnData object with n_obs × n_vars = 2700 × 32738\n",
       "    var: 'gene_ids'"
      ]
     },
     "execution_count": 55,
     "metadata": {},
     "output_type": "execute_result"
    }
   ],
   "source": [
    "human_data"
   ]
  },
  {
   "cell_type": "code",
   "execution_count": 57,
   "metadata": {},
   "outputs": [
    {
     "data": {
      "text/html": [
       "<div>\n",
       "<style scoped>\n",
       "    .dataframe tbody tr th:only-of-type {\n",
       "        vertical-align: middle;\n",
       "    }\n",
       "\n",
       "    .dataframe tbody tr th {\n",
       "        vertical-align: top;\n",
       "    }\n",
       "\n",
       "    .dataframe thead th {\n",
       "        text-align: right;\n",
       "    }\n",
       "</style>\n",
       "<table border=\"1\" class=\"dataframe\">\n",
       "  <thead>\n",
       "    <tr style=\"text-align: right;\">\n",
       "      <th></th>\n",
       "      <th>gene_ids</th>\n",
       "      <th>original_gene_symbol</th>\n",
       "    </tr>\n",
       "  </thead>\n",
       "  <tbody>\n",
       "    <tr>\n",
       "      <th>Olfr1303</th>\n",
       "      <td>ENSG00000235249</td>\n",
       "      <td>OR4F29</td>\n",
       "    </tr>\n",
       "    <tr>\n",
       "      <th>Samd11</th>\n",
       "      <td>ENSG00000187634</td>\n",
       "      <td>SAMD11</td>\n",
       "    </tr>\n",
       "    <tr>\n",
       "      <th>Noc2l</th>\n",
       "      <td>ENSG00000188976</td>\n",
       "      <td>NOC2L</td>\n",
       "    </tr>\n",
       "    <tr>\n",
       "      <th>Klhl17</th>\n",
       "      <td>ENSG00000187961</td>\n",
       "      <td>KLHL17</td>\n",
       "    </tr>\n",
       "    <tr>\n",
       "      <th>Plekhn1</th>\n",
       "      <td>ENSG00000187583</td>\n",
       "      <td>PLEKHN1</td>\n",
       "    </tr>\n",
       "  </tbody>\n",
       "</table>\n",
       "</div>"
      ],
      "text/plain": [
       "                 gene_ids original_gene_symbol\n",
       "Olfr1303  ENSG00000235249               OR4F29\n",
       "Samd11    ENSG00000187634               SAMD11\n",
       "Noc2l     ENSG00000188976                NOC2L\n",
       "Klhl17    ENSG00000187961               KLHL17\n",
       "Plekhn1   ENSG00000187583              PLEKHN1"
      ]
     },
     "execution_count": 57,
     "metadata": {},
     "output_type": "execute_result"
    }
   ],
   "source": [
    "translated_human_data.var.head()"
   ]
  },
  {
   "cell_type": "code",
   "execution_count": null,
   "metadata": {},
   "outputs": [],
   "source": []
  }
 ],
 "metadata": {
  "kernelspec": {
   "display_name": "sc_env",
   "language": "python",
   "name": "python3"
  },
  "language_info": {
   "codemirror_mode": {
    "name": "ipython",
    "version": 3
   },
   "file_extension": ".py",
   "mimetype": "text/x-python",
   "name": "python",
   "nbconvert_exporter": "python",
   "pygments_lexer": "ipython3",
   "version": "3.9.15"
  },
  "orig_nbformat": 4,
  "vscode": {
   "interpreter": {
    "hash": "b286f6d81d26b8c5e9b75f0b330b147d4e82d310a48f1d10d555cf8099dd470e"
   }
  }
 },
 "nbformat": 4,
 "nbformat_minor": 2
}
