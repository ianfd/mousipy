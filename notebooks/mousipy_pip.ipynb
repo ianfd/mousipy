{
 "cells": [
  {
   "cell_type": "code",
   "execution_count": 1,
   "id": "e523a4b8",
   "metadata": {
    "ExecuteTime": {
     "end_time": "2022-09-19T10:02:35.492902Z",
     "start_time": "2022-09-19T10:02:32.324451Z"
    }
   },
   "outputs": [
    {
     "data": {
      "text/html": [
       "<style>.container { width:97% !important; }</style>"
      ],
      "text/plain": [
       "<IPython.core.display.HTML object>"
      ]
     },
     "metadata": {},
     "output_type": "display_data"
    }
   ],
   "source": [
    "import pandas as pd\n",
    "import matplotlib.pyplot as pl\n",
    "import scanpy as sc\n",
    "import numpy as np\n",
    "import scvelo as scv\n",
    "from tqdm.notebook import tqdm\n",
    "\n",
    "from IPython.core.display import display, HTML\n",
    "display(HTML(\"<style>.container { width:97% !important; }</style>\"))"
   ]
  },
  {
   "cell_type": "code",
   "execution_count": 2,
   "id": "61e800ea",
   "metadata": {
    "ExecuteTime": {
     "end_time": "2022-09-19T10:02:36.571981Z",
     "start_time": "2022-09-19T10:02:35.517374Z"
    }
   },
   "outputs": [],
   "source": [
    "adata = scv.datasets.pancreas()  # mouse scRNA-seq dataset"
   ]
  },
  {
   "cell_type": "code",
   "execution_count": 3,
   "id": "7cce02ab",
   "metadata": {
    "ExecuteTime": {
     "end_time": "2022-09-19T10:02:42.627428Z",
     "start_time": "2022-09-19T10:02:36.575081Z"
    }
   },
   "outputs": [
    {
     "name": "stdout",
     "output_type": "stream",
     "text": [
      "/fast/work/users/peidlis_c/utils/mousipy/notebooks\n",
      "/fast/users/peidlis_c/work/miniconda/envs/sc_env/lib/python3.9/site-packages/mousipy\n"
     ]
    },
    {
     "name": "stderr",
     "output_type": "stream",
     "text": [
      "                                                     \n",
      "KeyboardInterrupt\n",
      "\n"
     ]
    }
   ],
   "source": [
    "from mousipy import translate\n",
    "humanized_adata = translate(adata)"
   ]
  }
 ],
 "metadata": {
  "hide_input": false,
  "kernelspec": {
   "display_name": "Python 3",
   "language": "python",
   "name": "python3"
  },
  "language_info": {
   "codemirror_mode": {
    "name": "ipython",
    "version": 3
   },
   "file_extension": ".py",
   "mimetype": "text/x-python",
   "name": "python",
   "nbconvert_exporter": "python",
   "pygments_lexer": "ipython3",
   "version": "3.9.13"
  }
 },
 "nbformat": 4,
 "nbformat_minor": 5
}
