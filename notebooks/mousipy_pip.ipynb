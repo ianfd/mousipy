{
 "cells": [
  {
   "cell_type": "code",
   "execution_count": 2,
   "id": "e523a4b8",
   "metadata": {
    "ExecuteTime": {
     "end_time": "2022-12-07T08:23:32.473436Z",
     "start_time": "2022-12-07T08:23:28.972330Z"
    }
   },
   "outputs": [
    {
     "data": {
      "text/html": [
       "<style>.container { width:97% !important; }</style>"
      ],
      "text/plain": [
       "<IPython.core.display.HTML object>"
      ]
     },
     "metadata": {},
     "output_type": "display_data"
    }
   ],
   "source": [
    "import pandas as pd\n",
    "import matplotlib.pyplot as pl\n",
    "import scanpy as sc\n",
    "import numpy as np\n",
    "import scvelo as scv\n",
    "from tqdm.notebook import tqdm\n",
    "\n",
    "from IPython.core.display import display, HTML\n",
    "display(HTML(\"<style>.container { width:97% !important; }</style>\"))"
   ]
  },
  {
   "cell_type": "code",
   "execution_count": 3,
   "id": "61e800ea",
   "metadata": {
    "ExecuteTime": {
     "end_time": "2022-12-07T08:23:33.344760Z",
     "start_time": "2022-12-07T08:23:32.475261Z"
    }
   },
   "outputs": [],
   "source": [
    "adata = scv.datasets.pancreas()  # mouse scRNA-seq dataset"
   ]
  },
  {
   "cell_type": "code",
   "execution_count": 3,
   "id": "7cce02ab",
   "metadata": {
    "ExecuteTime": {
     "end_time": "2022-09-19T10:02:42.627428Z",
     "start_time": "2022-09-19T10:02:36.575081Z"
    }
   },
   "outputs": [
    {
     "name": "stdout",
     "output_type": "stream",
     "text": [
      "/fast/work/users/peidlis_c/utils/mousipy/notebooks\n",
      "/fast/users/peidlis_c/work/miniconda/envs/sc_env/lib/python3.9/site-packages/mousipy\n"
     ]
    },
    {
     "name": "stderr",
     "output_type": "stream",
     "text": [
      "                                                     \n",
      "KeyboardInterrupt\n",
      "\n"
     ]
    }
   ],
   "source": [
    "from mousipy import translate\n",
    "humanized_adata = translate(adata)"
   ]
  },
  {
   "cell_type": "code",
   "execution_count": 5,
   "id": "cf860002",
   "metadata": {
    "ExecuteTime": {
     "end_time": "2022-10-31T08:21:38.930239Z",
     "start_time": "2022-10-31T08:21:18.605975Z"
    }
   },
   "outputs": [
    {
     "name": "stdout",
     "output_type": "stream",
     "text": [
      "Obtaining file:///fast/work/users/peidlis_c/utils/mousipy\n",
      "  Installing build dependencies ... \u001b[?25ldone\n",
      "\u001b[?25h  Checking if build backend supports build_editable ... \u001b[?25ldone\n",
      "\u001b[?25h  Getting requirements to build editable ... \u001b[?25ldone\n",
      "\u001b[?25h  Preparing editable metadata (pyproject.toml) ... \u001b[?25ldone\n",
      "\u001b[?25hRequirement already satisfied: pandas>=1.1.3 in /fast/work/users/peidlis_c/miniconda/envs/sc_env/lib/python3.9/site-packages (from mousipy==0.0.5) (1.4.3)\n",
      "Requirement already satisfied: numpy in /fast/work/users/peidlis_c/miniconda/envs/sc_env/lib/python3.9/site-packages (from mousipy==0.0.5) (1.23.1)\n",
      "Requirement already satisfied: scipy in /fast/work/users/peidlis_c/miniconda/envs/sc_env/lib/python3.9/site-packages (from mousipy==0.0.5) (1.9.0)\n",
      "Requirement already satisfied: scanpy>=1.7.2 in /fast/work/users/peidlis_c/miniconda/envs/sc_env/lib/python3.9/site-packages (from mousipy==0.0.5) (1.9.1)\n",
      "Requirement already satisfied: tqdm>=4.62.3 in /fast/work/users/peidlis_c/miniconda/envs/sc_env/lib/python3.9/site-packages (from mousipy==0.0.5) (4.64.0)\n",
      "Requirement already satisfied: python-dateutil>=2.8.1 in /fast/work/users/peidlis_c/miniconda/envs/sc_env/lib/python3.9/site-packages (from pandas>=1.1.3->mousipy==0.0.5) (2.8.2)\n",
      "Requirement already satisfied: pytz>=2020.1 in /fast/work/users/peidlis_c/miniconda/envs/sc_env/lib/python3.9/site-packages (from pandas>=1.1.3->mousipy==0.0.5) (2022.1)\n",
      "Requirement already satisfied: statsmodels>=0.10.0rc2 in /fast/work/users/peidlis_c/miniconda/envs/sc_env/lib/python3.9/site-packages (from scanpy>=1.7.2->mousipy==0.0.5) (0.13.2)\n",
      "Requirement already satisfied: umap-learn>=0.3.10 in /fast/work/users/peidlis_c/miniconda/envs/sc_env/lib/python3.9/site-packages (from scanpy>=1.7.2->mousipy==0.0.5) (0.5.3)\n",
      "Requirement already satisfied: h5py>=3 in /fast/work/users/peidlis_c/miniconda/envs/sc_env/lib/python3.9/site-packages (from scanpy>=1.7.2->mousipy==0.0.5) (3.7.0)\n",
      "Requirement already satisfied: networkx>=2.3 in /fast/work/users/peidlis_c/miniconda/envs/sc_env/lib/python3.9/site-packages (from scanpy>=1.7.2->mousipy==0.0.5) (2.8.5)\n",
      "Requirement already satisfied: joblib in /fast/work/users/peidlis_c/miniconda/envs/sc_env/lib/python3.9/site-packages (from scanpy>=1.7.2->mousipy==0.0.5) (1.1.0)\n",
      "Requirement already satisfied: natsort in /fast/work/users/peidlis_c/miniconda/envs/sc_env/lib/python3.9/site-packages (from scanpy>=1.7.2->mousipy==0.0.5) (8.1.0)\n",
      "Requirement already satisfied: matplotlib>=3.4 in /fast/work/users/peidlis_c/miniconda/envs/sc_env/lib/python3.9/site-packages (from scanpy>=1.7.2->mousipy==0.0.5) (3.5.3)\n",
      "Requirement already satisfied: packaging in /fast/work/users/peidlis_c/miniconda/envs/sc_env/lib/python3.9/site-packages (from scanpy>=1.7.2->mousipy==0.0.5) (21.3)\n",
      "Requirement already satisfied: scikit-learn>=0.22 in /fast/work/users/peidlis_c/miniconda/envs/sc_env/lib/python3.9/site-packages (from scanpy>=1.7.2->mousipy==0.0.5) (1.1.2)\n",
      "Requirement already satisfied: numba>=0.41.0 in /fast/work/users/peidlis_c/miniconda/envs/sc_env/lib/python3.9/site-packages (from scanpy>=1.7.2->mousipy==0.0.5) (0.53.1)\n",
      "Requirement already satisfied: anndata>=0.7.4 in /fast/work/users/peidlis_c/miniconda/envs/sc_env/lib/python3.9/site-packages (from scanpy>=1.7.2->mousipy==0.0.5) (0.8.0)\n",
      "Requirement already satisfied: patsy in /fast/work/users/peidlis_c/miniconda/envs/sc_env/lib/python3.9/site-packages (from scanpy>=1.7.2->mousipy==0.0.5) (0.5.2)\n",
      "Requirement already satisfied: seaborn in /fast/work/users/peidlis_c/miniconda/envs/sc_env/lib/python3.9/site-packages (from scanpy>=1.7.2->mousipy==0.0.5) (0.11.2)\n",
      "Requirement already satisfied: session-info in /fast/work/users/peidlis_c/miniconda/envs/sc_env/lib/python3.9/site-packages (from scanpy>=1.7.2->mousipy==0.0.5) (1.0.0)\n",
      "Requirement already satisfied: fonttools>=4.22.0 in /fast/work/users/peidlis_c/miniconda/envs/sc_env/lib/python3.9/site-packages (from matplotlib>=3.4->scanpy>=1.7.2->mousipy==0.0.5) (4.37.1)\n",
      "Requirement already satisfied: cycler>=0.10 in /fast/work/users/peidlis_c/miniconda/envs/sc_env/lib/python3.9/site-packages (from matplotlib>=3.4->scanpy>=1.7.2->mousipy==0.0.5) (0.11.0)\n",
      "Requirement already satisfied: pillow>=6.2.0 in /fast/work/users/peidlis_c/miniconda/envs/sc_env/lib/python3.9/site-packages (from matplotlib>=3.4->scanpy>=1.7.2->mousipy==0.0.5) (9.0.0)\n",
      "Requirement already satisfied: pyparsing>=2.2.1 in /fast/work/users/peidlis_c/miniconda/envs/sc_env/lib/python3.9/site-packages (from matplotlib>=3.4->scanpy>=1.7.2->mousipy==0.0.5) (3.0.9)\n",
      "Requirement already satisfied: kiwisolver>=1.0.1 in /fast/work/users/peidlis_c/miniconda/envs/sc_env/lib/python3.9/site-packages (from matplotlib>=3.4->scanpy>=1.7.2->mousipy==0.0.5) (1.4.4)\n",
      "Requirement already satisfied: llvmlite<0.37,>=0.36.0rc1 in /fast/work/users/peidlis_c/miniconda/envs/sc_env/lib/python3.9/site-packages (from numba>=0.41.0->scanpy>=1.7.2->mousipy==0.0.5) (0.36.0)\n",
      "Requirement already satisfied: setuptools in /fast/work/users/peidlis_c/miniconda/envs/sc_env/lib/python3.9/site-packages (from numba>=0.41.0->scanpy>=1.7.2->mousipy==0.0.5) (59.5.0)\n",
      "Requirement already satisfied: six>=1.5 in /fast/work/users/peidlis_c/miniconda/envs/sc_env/lib/python3.9/site-packages (from python-dateutil>=2.8.1->pandas>=1.1.3->mousipy==0.0.5) (1.16.0)\n",
      "Requirement already satisfied: threadpoolctl>=2.0.0 in /fast/work/users/peidlis_c/miniconda/envs/sc_env/lib/python3.9/site-packages (from scikit-learn>=0.22->scanpy>=1.7.2->mousipy==0.0.5) (3.1.0)\n",
      "Requirement already satisfied: pynndescent>=0.5 in /fast/work/users/peidlis_c/miniconda/envs/sc_env/lib/python3.9/site-packages (from umap-learn>=0.3.10->scanpy>=1.7.2->mousipy==0.0.5) (0.5.7)\n",
      "Requirement already satisfied: stdlib-list in /fast/work/users/peidlis_c/miniconda/envs/sc_env/lib/python3.9/site-packages (from session-info->scanpy>=1.7.2->mousipy==0.0.5) (0.7.0)\n",
      "Building wheels for collected packages: mousipy\n",
      "  Building editable for mousipy (pyproject.toml) ... \u001b[?25ldone\n",
      "\u001b[?25h  Created wheel for mousipy: filename=mousipy-0.0.5-0.editable-py3-none-any.whl size=3200 sha256=133e005a4e9315a801856fb7d04e9c87311de41fd89d3c714076cbcc4a5d369b\n",
      "  Stored in directory: /tmp/pip-ephem-wheel-cache-jb9bxha3/wheels/4d/ba/7d/cf65522fe85d317ad67dbedf85073e15f60832a1079bd9745f\n",
      "Successfully built mousipy\n",
      "Installing collected packages: mousipy\n",
      "  Attempting uninstall: mousipy\n",
      "    Found existing installation: mousipy 0.0.5\n",
      "    Uninstalling mousipy-0.0.5:\n",
      "      Successfully uninstalled mousipy-0.0.5\n",
      "Successfully installed mousipy-0.0.5\n"
     ]
    }
   ],
   "source": [
    "!pip install -e /fast/work/users/peidlis_c/utils/mousipy/ --upgrade"
   ]
  },
  {
   "cell_type": "code",
   "execution_count": 1,
   "id": "e5c79827",
   "metadata": {
    "ExecuteTime": {
     "end_time": "2022-12-07T08:23:28.969689Z",
     "start_time": "2022-12-07T08:23:06.733245Z"
    }
   },
   "outputs": [
    {
     "name": "stdout",
     "output_type": "stream",
     "text": [
      "Requirement already satisfied: mousipy in /fast/work/users/peidlis_c/miniconda/envs/sc_env/lib/python3.9/site-packages (0.0.5)\n",
      "Collecting mousipy\n",
      "  Downloading mousipy-0.0.6-py3-none-any.whl (1.4 MB)\n",
      "\u001b[2K     \u001b[90m━━━━━━━━━━━━━━━━━━━━━━━━━━━━━━━━━━━━━━━━\u001b[0m \u001b[32m1.4/1.4 MB\u001b[0m \u001b[31m16.5 MB/s\u001b[0m eta \u001b[36m0:00:00\u001b[0m00:01\u001b[0m0:01\u001b[0m\n",
      "\u001b[?25hRequirement already satisfied: numpy in /fast/work/users/peidlis_c/miniconda/envs/sc_env/lib/python3.9/site-packages (from mousipy) (1.23.1)\n",
      "Requirement already satisfied: scipy in /fast/work/users/peidlis_c/miniconda/envs/sc_env/lib/python3.9/site-packages (from mousipy) (1.9.0)\n",
      "Requirement already satisfied: scanpy>=1.7.2 in /fast/work/users/peidlis_c/miniconda/envs/sc_env/lib/python3.9/site-packages (from mousipy) (1.9.1)\n",
      "Requirement already satisfied: tqdm>=4.62.3 in /fast/work/users/peidlis_c/miniconda/envs/sc_env/lib/python3.9/site-packages (from mousipy) (4.64.0)\n",
      "Requirement already satisfied: pandas>=1.1.3 in /fast/work/users/peidlis_c/miniconda/envs/sc_env/lib/python3.9/site-packages (from mousipy) (1.4.3)\n",
      "Requirement already satisfied: python-dateutil>=2.8.1 in /fast/work/users/peidlis_c/miniconda/envs/sc_env/lib/python3.9/site-packages (from pandas>=1.1.3->mousipy) (2.8.2)\n",
      "Requirement already satisfied: pytz>=2020.1 in /fast/work/users/peidlis_c/miniconda/envs/sc_env/lib/python3.9/site-packages (from pandas>=1.1.3->mousipy) (2022.1)\n",
      "Requirement already satisfied: numba>=0.41.0 in /fast/work/users/peidlis_c/miniconda/envs/sc_env/lib/python3.9/site-packages (from scanpy>=1.7.2->mousipy) (0.53.1)\n",
      "Requirement already satisfied: scikit-learn>=0.22 in /fast/work/users/peidlis_c/miniconda/envs/sc_env/lib/python3.9/site-packages (from scanpy>=1.7.2->mousipy) (1.1.2)\n",
      "Requirement already satisfied: packaging in /fast/work/users/peidlis_c/miniconda/envs/sc_env/lib/python3.9/site-packages (from scanpy>=1.7.2->mousipy) (21.3)\n",
      "Requirement already satisfied: umap-learn>=0.3.10 in /fast/work/users/peidlis_c/miniconda/envs/sc_env/lib/python3.9/site-packages (from scanpy>=1.7.2->mousipy) (0.5.3)\n",
      "Requirement already satisfied: patsy in /fast/work/users/peidlis_c/miniconda/envs/sc_env/lib/python3.9/site-packages (from scanpy>=1.7.2->mousipy) (0.5.2)\n",
      "Requirement already satisfied: natsort in /fast/work/users/peidlis_c/miniconda/envs/sc_env/lib/python3.9/site-packages (from scanpy>=1.7.2->mousipy) (8.1.0)\n",
      "Requirement already satisfied: networkx>=2.3 in /fast/work/users/peidlis_c/miniconda/envs/sc_env/lib/python3.9/site-packages (from scanpy>=1.7.2->mousipy) (2.8.5)\n",
      "Requirement already satisfied: anndata>=0.7.4 in /fast/work/users/peidlis_c/miniconda/envs/sc_env/lib/python3.9/site-packages (from scanpy>=1.7.2->mousipy) (0.8.0)\n",
      "Requirement already satisfied: seaborn in /fast/work/users/peidlis_c/miniconda/envs/sc_env/lib/python3.9/site-packages (from scanpy>=1.7.2->mousipy) (0.11.2)\n",
      "Requirement already satisfied: joblib in /fast/work/users/peidlis_c/miniconda/envs/sc_env/lib/python3.9/site-packages (from scanpy>=1.7.2->mousipy) (1.1.0)\n",
      "Requirement already satisfied: h5py>=3 in /fast/work/users/peidlis_c/miniconda/envs/sc_env/lib/python3.9/site-packages (from scanpy>=1.7.2->mousipy) (3.7.0)\n",
      "Requirement already satisfied: matplotlib>=3.4 in /fast/work/users/peidlis_c/miniconda/envs/sc_env/lib/python3.9/site-packages (from scanpy>=1.7.2->mousipy) (3.5.3)\n",
      "Requirement already satisfied: session-info in /fast/work/users/peidlis_c/miniconda/envs/sc_env/lib/python3.9/site-packages (from scanpy>=1.7.2->mousipy) (1.0.0)\n",
      "Requirement already satisfied: statsmodels>=0.10.0rc2 in /fast/work/users/peidlis_c/miniconda/envs/sc_env/lib/python3.9/site-packages (from scanpy>=1.7.2->mousipy) (0.13.2)\n",
      "Requirement already satisfied: pyparsing>=2.2.1 in /fast/work/users/peidlis_c/miniconda/envs/sc_env/lib/python3.9/site-packages (from matplotlib>=3.4->scanpy>=1.7.2->mousipy) (3.0.9)\n",
      "Requirement already satisfied: pillow>=6.2.0 in /fast/work/users/peidlis_c/miniconda/envs/sc_env/lib/python3.9/site-packages (from matplotlib>=3.4->scanpy>=1.7.2->mousipy) (9.0.0)\n",
      "Requirement already satisfied: fonttools>=4.22.0 in /fast/work/users/peidlis_c/miniconda/envs/sc_env/lib/python3.9/site-packages (from matplotlib>=3.4->scanpy>=1.7.2->mousipy) (4.37.1)\n",
      "Requirement already satisfied: kiwisolver>=1.0.1 in /fast/work/users/peidlis_c/miniconda/envs/sc_env/lib/python3.9/site-packages (from matplotlib>=3.4->scanpy>=1.7.2->mousipy) (1.4.4)\n",
      "Requirement already satisfied: cycler>=0.10 in /fast/work/users/peidlis_c/miniconda/envs/sc_env/lib/python3.9/site-packages (from matplotlib>=3.4->scanpy>=1.7.2->mousipy) (0.11.0)\n",
      "Requirement already satisfied: setuptools in /fast/work/users/peidlis_c/miniconda/envs/sc_env/lib/python3.9/site-packages (from numba>=0.41.0->scanpy>=1.7.2->mousipy) (59.5.0)\n",
      "Requirement already satisfied: llvmlite<0.37,>=0.36.0rc1 in /fast/work/users/peidlis_c/miniconda/envs/sc_env/lib/python3.9/site-packages (from numba>=0.41.0->scanpy>=1.7.2->mousipy) (0.36.0)\n",
      "Requirement already satisfied: six>=1.5 in /fast/work/users/peidlis_c/miniconda/envs/sc_env/lib/python3.9/site-packages (from python-dateutil>=2.8.1->pandas>=1.1.3->mousipy) (1.16.0)\n",
      "Requirement already satisfied: threadpoolctl>=2.0.0 in /fast/work/users/peidlis_c/miniconda/envs/sc_env/lib/python3.9/site-packages (from scikit-learn>=0.22->scanpy>=1.7.2->mousipy) (3.1.0)\n",
      "Requirement already satisfied: pynndescent>=0.5 in /fast/work/users/peidlis_c/miniconda/envs/sc_env/lib/python3.9/site-packages (from umap-learn>=0.3.10->scanpy>=1.7.2->mousipy) (0.5.7)\n",
      "Requirement already satisfied: stdlib-list in /fast/work/users/peidlis_c/miniconda/envs/sc_env/lib/python3.9/site-packages (from session-info->scanpy>=1.7.2->mousipy) (0.7.0)\n",
      "Installing collected packages: mousipy\n",
      "  Attempting uninstall: mousipy\n",
      "    Found existing installation: mousipy 0.0.5\n",
      "    Uninstalling mousipy-0.0.5:\n",
      "      Successfully uninstalled mousipy-0.0.5\n",
      "Successfully installed mousipy-0.0.6\n"
     ]
    }
   ],
   "source": [
    "!pip install mousipy --upgrade"
   ]
  },
  {
   "cell_type": "code",
   "execution_count": 4,
   "id": "60b939f7",
   "metadata": {
    "ExecuteTime": {
     "end_time": "2022-12-07T08:23:33.522829Z",
     "start_time": "2022-12-07T08:23:33.347407Z"
    }
   },
   "outputs": [],
   "source": [
    "from mousipy import translate"
   ]
  },
  {
   "cell_type": "code",
   "execution_count": 5,
   "id": "c547bb20",
   "metadata": {
    "ExecuteTime": {
     "end_time": "2022-12-07T08:27:13.053858Z",
     "start_time": "2022-12-07T08:23:33.524624Z"
    }
   },
   "outputs": [
    {
     "name": "stderr",
     "output_type": "stream",
     "text": [
      "                                                       \r"
     ]
    }
   ],
   "source": [
    "adata.X = adata.X.A.copy()  # make dense\n",
    "humanized_adata = translate(adata)  # check if this throws error on \".A\""
   ]
  },
  {
   "cell_type": "code",
   "execution_count": 6,
   "id": "d7d92e31",
   "metadata": {
    "ExecuteTime": {
     "end_time": "2022-12-07T08:27:13.893510Z",
     "start_time": "2022-12-07T08:27:13.057114Z"
    }
   },
   "outputs": [
    {
     "data": {
      "image/png": "[encoded data removed]",
      "text/plain": [
       "<Figure size 432x288 with 1 Axes>"
      ]
     },
     "metadata": {
      "needs_background": "light"
     },
     "output_type": "display_data"
    }
   ],
   "source": [
    "# Minimal loss in counts\n",
    "counts_per_cell_after = np.sum(humanized_adata.X, axis=1)\n",
    "counts_per_cell_before = np.sum(adata.X, axis=1)\n",
    "\n",
    "pl.scatter(counts_per_cell_before, counts_per_cell_after, label='cells')\n",
    "pl.title('Reduction in counts per cell\\nare caused by genes without an ortholog')\n",
    "pl.xlabel('Total RNA counts per cell before mapping')\n",
    "pl.ylabel('Total RNA counts per cell after mapping')\n",
    "pl.plot([0,18000], [0,18000], c='r', label='1:1')\n",
    "pl.legend()\n",
    "pl.show()"
   ]
  },
  {
   "cell_type": "code",
   "execution_count": 7,
   "id": "5e911535",
   "metadata": {
    "ExecuteTime": {
     "end_time": "2022-12-07T08:27:13.900483Z",
     "start_time": "2022-12-07T08:27:13.895551Z"
    }
   },
   "outputs": [
    {
     "name": "stdout",
     "output_type": "stream",
     "text": [
      "A median cell lost 459 of 6194 counts (7.41%) during the mapping process.\n",
      "Mousipy could map 27998 to 17450 genes.\n"
     ]
    }
   ],
   "source": [
    "mcl = np.median(counts_per_cell_before - counts_per_cell_after)\n",
    "mc = np.median(counts_per_cell_before)\n",
    "print(f'A median cell lost {int(mcl)} of {int(mc)} counts ({np.round(100*mcl/mc,2)}%) during the mapping process.')\n",
    "print(f'Mousipy could map {adata.n_vars} to {humanized_adata.n_vars} genes.')"
   ]
  },
  {
   "cell_type": "code",
   "execution_count": 8,
   "id": "0da64fff",
   "metadata": {
    "ExecuteTime": {
     "end_time": "2022-12-07T08:27:13.930906Z",
     "start_time": "2022-12-07T08:27:13.902701Z"
    }
   },
   "outputs": [
    {
     "data": {
      "text/plain": [
       "(3696, 17450)"
      ]
     },
     "execution_count": 8,
     "metadata": {},
     "output_type": "execute_result"
    }
   ],
   "source": [
    "humanized_adata.shape"
   ]
  },
  {
   "cell_type": "code",
   "execution_count": 9,
   "id": "dbf55687",
   "metadata": {
    "ExecuteTime": {
     "end_time": "2022-12-07T08:27:13.952347Z",
     "start_time": "2022-12-07T08:27:13.932732Z"
    }
   },
   "outputs": [
    {
     "data": {
      "text/plain": [
       "(3696, 27998)"
      ]
     },
     "execution_count": 9,
     "metadata": {},
     "output_type": "execute_result"
    }
   ],
   "source": [
    "adata.shape"
   ]
  },
  {
   "cell_type": "code",
   "execution_count": null,
   "id": "723e1b8f",
   "metadata": {},
   "outputs": [],
   "source": []
  },
  {
   "cell_type": "code",
   "execution_count": null,
   "id": "37337919",
   "metadata": {},
   "outputs": [],
   "source": []
  },
  {
   "cell_type": "code",
   "execution_count": null,
   "id": "cf1ea893",
   "metadata": {},
   "outputs": [],
   "source": []
  },
  {
   "cell_type": "code",
   "execution_count": null,
   "id": "d00c7e55",
   "metadata": {},
   "outputs": [],
   "source": []
  },
  {
   "cell_type": "code",
   "execution_count": null,
   "id": "8429dce7",
   "metadata": {},
   "outputs": [],
   "source": []
  },
  {
   "cell_type": "code",
   "execution_count": null,
   "id": "4dd88d81",
   "metadata": {},
   "outputs": [],
   "source": []
  },
  {
   "cell_type": "code",
   "execution_count": null,
   "id": "df20b7f9",
   "metadata": {},
   "outputs": [],
   "source": []
  },
  {
   "cell_type": "code",
   "execution_count": null,
   "id": "0ae22666",
   "metadata": {},
   "outputs": [],
   "source": []
  },
  {
   "cell_type": "code",
   "execution_count": null,
   "id": "653d7b81",
   "metadata": {},
   "outputs": [],
   "source": []
  }
 ],
 "metadata": {
  "hide_input": false,
  "kernelspec": {
   "display_name": "Python 3",
   "language": "python",
   "name": "python3"
  },
  "language_info": {
   "codemirror_mode": {
    "name": "ipython",
    "version": 3
   },
   "file_extension": ".py",
   "mimetype": "text/x-python",
   "name": "python",
   "nbconvert_exporter": "python",
   "pygments_lexer": "ipython3",
   "version": "3.9.13"
  }
 },
 "nbformat": 4,
 "nbformat_minor": 5
}
